{
 "cells": [
  {
   "cell_type": "code",
   "execution_count": 14,
   "metadata": {},
   "outputs": [],
   "source": [
    "from math import radians, cos, sin, asin, sqrt\n",
    "import copy\n",
    "import pandas as pd\n",
    "import time\n",
    "from datetime import timedelta\n",
    "import sys\n",
    "import platform\n",
    "import matplotlib.pyplot as plt"
   ]
  },
  {
   "cell_type": "markdown",
   "metadata": {},
   "source": [
    "These libraries are not in the std library. Must be added to conda enviornment."
   ]
  },
  {
   "cell_type": "code",
   "execution_count": 15,
   "metadata": {},
   "outputs": [],
   "source": [
    "import psutil"
   ]
  },
  {
   "cell_type": "code",
   "execution_count": 16,
   "metadata": {},
   "outputs": [],
   "source": [
    "def distance(x, y): #euclidean distance \n",
    "    x1,x2,y1,y2 = float(x[0]),float(x[1]),float(y[0]),float(y[1])\n",
    "    return sqrt((y2 - x2)**2 + (y1 - x1)**2)\n",
    "\n",
    "\n",
    "def haversine_distance(x, y): #Earth's curvature\n",
    "      \n",
    "    lat1,lon1,lat2,lon2 = float(x[0]),float(x[1]),float(y[0]),float(y[1])\n",
    "    \n",
    "    # convert decimal degrees to radians \n",
    "    lon1, lat1, lon2, lat2 = map(radians, [lon1, lat1, lon2, lat2])\n",
    "\n",
    "    # haversine formula \n",
    "    dlon = lon2 - lon1 \n",
    "    dlat = lat2 - lat1 \n",
    "    a = sin(dlat/2)**2 + cos(lat1) * cos(lat2) * sin(dlon/2)**2\n",
    "    c = 2 * asin(sqrt(a)) \n",
    "    m = 3956 # Radius of earth in miles. Use 3956 for miles\n",
    "    return c * m\n",
    "\n",
    "\n",
    "def oneSwap(S):\n",
    "        origCost = cost(S)\n",
    "        t = .99\n",
    "        for ind, y in enumerate(C):\n",
    "            for ind2, x in enumerate(S):\n",
    "                if x == ind:\n",
    "                    continue\n",
    "                S[ind2] = ind\n",
    "                if(cost(S)<t*origCost):\n",
    "                    return True, S\n",
    "                else:\n",
    "                    S[ind2] = x\n",
    "        return False,S\n",
    "\n",
    "    \n",
    "def cost(S):\n",
    "    cost = 0\n",
    "    for ind, y in enumerate(C): #find the closest s in S for each c in C\n",
    "        minD = float('inf')\n",
    "        for x in S: #distance = 0 \n",
    "            if x == ind:\n",
    "                minD = 0\n",
    "                break\n",
    "            if G[ind][x] < minD:\n",
    "                minD = G[ind][x]\n",
    "        cost+= minD\n",
    "    return cost\n",
    "\n",
    "\n",
    "def fetchPlatform():\n",
    "    print(\"=\"*40, \"System Information\", \"=\"*40)\n",
    "    uname = platform.uname()\n",
    "    print(f\"System: {uname.system}\")\n",
    "    print(f\"Node Name: {uname.node}\")\n",
    "    print(f\"Release: {uname.release}\")\n",
    "    print(f\"Version: {uname.version}\")\n",
    "    print(f\"Machine: {uname.machine}\")\n",
    "    print(f\"Processor: {uname.processor}\")\n",
    "\n",
    "    \n",
    "def get_size(bytes, suffix=\"B\"):\n",
    "    \"\"\"\n",
    "    Scale bytes to its proper format\n",
    "    e.g:\n",
    "        1253656 => '1.20MB'\n",
    "        1253656678 => '1.17GB'\n",
    "    \"\"\"\n",
    "    factor = 1024\n",
    "    for unit in [\"\", \"K\", \"M\", \"G\", \"T\", \"P\"]:\n",
    "        if bytes < factor:\n",
    "            return f\"{bytes:.2f}{unit}{suffix}\"\n",
    "        bytes /= factor\n",
    "        \n",
    "        \n",
    "def fetchOptCenters():\n",
    "    optCenters = []\n",
    "    df = pd.read_csv(\"500_us_city_coords.txt\",delimiter=\"\\t\",header=None)\n",
    "    kmedoids = KMedoids(n_clusters=20,random_state=0,metric='euclidean',max_iter=1).fit(df)\n",
    "    centers = list(kmedoids.cluster_centers_)\n",
    "    for i, s in df.iterrows():\n",
    "        for x in centers:\n",
    "            if(x[0] == s[0] and x[1] == s[1]):\n",
    "                optCenters.append(i)\n",
    "    return optCenters"
   ]
  },
  {
   "cell_type": "code",
   "execution_count": 17,
   "metadata": {},
   "outputs": [
    {
     "name": "stdout",
     "output_type": "stream",
     "text": [
      "inital cost: 1031.5391394011203\n",
      "iterations:  16\n",
      "S found from oneSwap is:  [37, 33, 2, 130, 4, 43, 6, 7, 8, 9, 10, 48, 144, 13, 340, 15, 164, 17, 20, 19]\n",
      "The Cost of S is  780.7005701783872\n",
      "Proceed with opening cost f of  39.03502850891936\n",
      "Time Elapsed:  0:00:34.039253\n",
      "Total cores: 8\n",
      "Frequency: 2700.00Mhz\n",
      "======================================== System Information ========================================\n",
      "System: Darwin\n",
      "Node Name: Nigels-MacBook-Pro.local\n",
      "Release: 18.7.0\n",
      "Version: Darwin Kernel Version 18.7.0: Tue Aug 20 16:57:14 PDT 2019; root:xnu-4903.271.2~2/RELEASE_X86_64\n",
      "Machine: x86_64\n",
      "Processor: i386\n"
     ]
    }
   ],
   "source": [
    "C = []\n",
    "S = [0,1,2,3,4,5,6,7,8,9,10,11,12,13,14,15,16,17,18,19]\n",
    "k = 20\n",
    "f = open(\"500_us_city_coords.txt\")\n",
    "G = []\n",
    "ts = []\n",
    "objs = []\n",
    "iterations = 0\n",
    "for line in f:\n",
    "    C.append(line.split())\n",
    "#Adj Matrix, saves CK calc per oneSwap(S)\n",
    "for x in C:\n",
    "    E = {}\n",
    "    for ind,y in enumerate(C):\n",
    "        if x == ind: \n",
    "            continue #(lat and log should be eq if entries are eq)\n",
    "        E[ind] = distance(x,y)\n",
    "    G.append(E)\n",
    "    \n",
    "start_time = time.monotonic()\n",
    "start_mem = psutil.virtual_memory().used\n",
    "#get initial values\n",
    "ts.append(iterations)\n",
    "objs.append(cost(S))\n",
    "while(1):\n",
    "    iterations+= 1\n",
    "    ret, S = oneSwap(S)\n",
    "    objs.append(cost(S))\n",
    "    ts.append(iterations)\n",
    "    if(ret == False):\n",
    "        break\n",
    "\n",
    "times = [str(x) for x in ts]\n",
    "times_stripped = [x.split(\".\",1)[0] for x in times]\n",
    "I = [0,1,2,3,4,5,6,7,8,9,10,11,12,13,14,15,16,17,18,19]\n",
    "print(\"inital cost:\",cost(I))\n",
    "end_mem = psutil.virtual_memory().used\n",
    "end_time = time.monotonic()\n",
    "memory_used = end_mem- start_mem\n",
    "finalCost = cost(S)\n",
    "f=finalCost/k\n",
    "time_elapsed = timedelta(seconds=end_time - start_time) \n",
    "print(\"iterations: \", iterations)\n",
    "print(\"S found from oneSwap is: \",S)\n",
    "print(\"The Cost of S is \", finalCost)\n",
    "print(\"Proceed with opening cost f of \", f)\n",
    "print(\"Time Elapsed: \", time_elapsed)\n",
    "print(\"Total cores:\", psutil.cpu_count(logical=True))\n",
    "# CPU frequencies\n",
    "cpufreq = psutil.cpu_freq()\n",
    "print(f\"Frequency: {cpufreq.max:.2f}Mhz\")\n",
    "fetchPlatform()\n",
    "#84283392"
   ]
  },
  {
   "cell_type": "code",
   "execution_count": 18,
   "metadata": {},
   "outputs": [
    {
     "data": {
      "image/png": "[encoded data removed]",
      "text/plain": [
       "<Figure size 432x288 with 1 Axes>"
      ]
     },
     "metadata": {
      "needs_background": "light"
     },
     "output_type": "display_data"
    }
   ],
   "source": [
    "\n",
    "#plot t vs objective value\n",
    "plt.plot(ts, objs, 'ro')\n",
    "plt.axis([0, 16, 500, 1200])\n",
    "plt.xlabel(\"iterations\")\n",
    "plt.ylabel(\"objective\")\n",
    "plt.show()"
   ]
  },
  {
   "cell_type": "code",
   "execution_count": null,
   "metadata": {},
   "outputs": [
    {
     "name": "stdout",
     "output_type": "stream",
     "text": [
      "Cost for k =1\n",
      "8241.612971816154\n",
      "Cost for k =2\n",
      "4164.94581041575\n",
      "Cost for k =4\n",
      "2896.6240114525226\n",
      "Cost for k =8\n",
      "1947.5867783647943\n",
      "Cost for k =16\n",
      "1592.8480377794551\n",
      "Cost for k =32\n",
      "1818.8068648481706\n"
     ]
    }
   ],
   "source": [
    "#search for optimal k\n",
    "#TODO add in plot for Lat & Long\n",
    "e = 10\n",
    "minCost = float('inf')\n",
    "minK = 0\n",
    "savedS = []\n",
    "ks = []\n",
    "objs = []\n",
    "k = 1\n",
    "\n",
    "#try every k within a factor of 2 \n",
    "while k < 100:\n",
    "    S = []\n",
    "    for n in range(k):\n",
    "        S.append(n)\n",
    "          \n",
    "    while(1):\n",
    "        ret, S = oneSwap(S)\n",
    "        if(ret == False):\n",
    "            break\n",
    "          \n",
    "    newCost = cost(S)\n",
    "    newCost = newCost + f*k\n",
    "    ks.append(k)\n",
    "    objs.append(newCost)\n",
    "          \n",
    "    print(\"Cost for k =\" + str(k))\n",
    "    print(newCost)\n",
    "          \n",
    "    if newCost< minCost:\n",
    "        minCost = newCost\n",
    "        minK = k\n",
    "        savedS = copy.deepcopy(S)\n",
    "        \n",
    "    k*=2\n",
    "          \n",
    "print(\"Optimal kmeans clustering for the obj is k = \",minK)\n",
    "print(\"S of k is: \",savedS)"
   ]
  },
  {
   "cell_type": "code",
   "execution_count": null,
   "metadata": {},
   "outputs": [],
   "source": [
    "#plot k vs objective value\n",
    "plt.plot(ks[1:], objs[1:], 'ro')\n",
    "plt.axis([0, 64, 0, 5000])\n",
    "plt.xlabel(\"k\")\n",
    "plt.ylabel(\"objective\")\n",
    "plt.show()"
   ]
  },
  {
   "cell_type": "code",
   "execution_count": null,
   "metadata": {},
   "outputs": [],
   "source": []
  }
 ],
 "metadata": {
  "kernelspec": {
   "display_name": "Python 3",
   "language": "python",
   "name": "python3"
  },
  "language_info": {
   "codemirror_mode": {
    "name": "ipython",
    "version": 3
   },
   "file_extension": ".py",
   "mimetype": "text/x-python",
   "name": "python",
   "nbconvert_exporter": "python",
   "pygments_lexer": "ipython3",
   "version": "3.6.12"
  }
 },
 "nbformat": 4,
 "nbformat_minor": 4
}
